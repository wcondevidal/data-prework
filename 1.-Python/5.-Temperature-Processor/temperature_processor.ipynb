{
 "cells": [
  {
   "cell_type": "code",
   "execution_count": 1,
   "id": "4d8d15e1",
   "metadata": {},
   "outputs": [],
   "source": [
    "temperatures_C = [33, 66, 65, 0, 59, 60, 62, 64, 70, 76, 80, 81, 80, 83, 90, 79, 61, 53, 50, 49, 53, 48, 45, 39]"
   ]
  },
  {
   "cell_type": "code",
   "execution_count": 2,
   "id": "b7722a0f",
   "metadata": {},
   "outputs": [
    {
     "name": "stdout",
     "output_type": "stream",
     "text": [
      "0\n"
     ]
    }
   ],
   "source": [
    "cold = min(temperatures_C)\n",
    "print(cold)"
   ]
  },
  {
   "cell_type": "code",
   "execution_count": 3,
   "id": "94bbe418",
   "metadata": {},
   "outputs": [
    {
     "name": "stdout",
     "output_type": "stream",
     "text": [
      "90\n"
     ]
    }
   ],
   "source": [
    "hot = max(temperatures_C)\n",
    "print(hot)"
   ]
  },
  {
   "cell_type": "code",
   "execution_count": 5,
   "id": "542d8424",
   "metadata": {},
   "outputs": [
    {
     "name": "stdout",
     "output_type": "stream",
     "text": [
      "[70, 76, 80, 81, 80, 83, 90, 79]\n"
     ]
    }
   ],
   "source": [
    "greaterorequal_70 = []\n",
    "\n",
    "for i in temperatures_C:\n",
    "    if i >= 70:\n",
    "        greaterorequal_70.append(i)\n",
    "        \n",
    "print(greaterorequal_70)"
   ]
  },
  {
   "cell_type": "code",
   "execution_count": 6,
   "id": "28cccc1d",
   "metadata": {},
   "outputs": [
    {
     "name": "stdout",
     "output_type": "stream",
     "text": [
      "[60.25]\n"
     ]
    }
   ],
   "source": [
    "temperature_avg = [sum(temperatures_C)/len(temperatures_C)]\n",
    "print(temperature_avg)"
   ]
  },
  {
   "cell_type": "code",
   "execution_count": 7,
   "id": "c3e262fd",
   "metadata": {},
   "outputs": [
    {
     "name": "stdout",
     "output_type": "stream",
     "text": [
      "[33, 66, 65, 60.25, 59, 60, 62, 64, 70, 76, 80, 81, 80, 83, 90, 79, 61, 53, 50, 49, 53, 48, 45, 39]\n"
     ]
    }
   ],
   "source": [
    "temperatures_C.remove(0)\n",
    "temperatures_C.insert(3, 60.25)\n",
    "print(temperatures_C)"
   ]
  },
  {
   "cell_type": "code",
   "execution_count": null,
   "id": "3809494b",
   "metadata": {},
   "outputs": [],
   "source": []
  }
 ],
 "metadata": {
  "kernelspec": {
   "display_name": "Python 3",
   "language": "python",
   "name": "python3"
  },
  "language_info": {
   "codemirror_mode": {
    "name": "ipython",
    "version": 3
   },
   "file_extension": ".py",
   "mimetype": "text/x-python",
   "name": "python",
   "nbconvert_exporter": "python",
   "pygments_lexer": "ipython3",
   "version": "3.9.5"
  }
 },
 "nbformat": 4,
 "nbformat_minor": 5
}
