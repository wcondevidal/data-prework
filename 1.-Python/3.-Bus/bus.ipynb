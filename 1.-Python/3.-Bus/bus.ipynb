{
 "cells": [
  {
   "cell_type": "code",
   "execution_count": 1,
   "id": "39a4358d",
   "metadata": {},
   "outputs": [],
   "source": [
    "stops = [(10, 0), (4, 1), (3, 5), (3, 4), (5, 1), (1, 5), (5, 8), (4, 6), (2, 3)]"
   ]
  },
  {
   "cell_type": "code",
   "execution_count": 10,
   "id": "6fbdbf9f",
   "metadata": {},
   "outputs": [
    {
     "name": "stdout",
     "output_type": "stream",
     "text": [
      "9\n"
     ]
    }
   ],
   "source": [
    "print(len(stops))"
   ]
  },
  {
   "cell_type": "code",
   "execution_count": 83,
   "id": "99cd09e6",
   "metadata": {},
   "outputs": [
    {
     "name": "stdout",
     "output_type": "stream",
     "text": [
      "People coming in the bus [10, 4, 3, 3, 5, 1, 5, 4, 2]\n",
      "People cominmg out of the bus [0, 1, 5, 4, 1, 5, 8, 6, 3]\n"
     ]
    }
   ],
   "source": [
    "in_bus = []\n",
    "for i in stops:\n",
    "    in_bus.append(i[0])\n",
    "\n",
    "print(\"People coming in the bus\",in_bus)\n",
    "\n",
    "out_bus = []\n",
    "for i in stops:\n",
    "    out_bus.append(i[1])\n",
    "\n",
    "print(\"People cominmg out of the bus\",out_bus)"
   ]
  },
  {
   "cell_type": "code",
   "execution_count": 106,
   "id": "467a5350",
   "metadata": {},
   "outputs": [
    {
     "name": "stdout",
     "output_type": "stream",
     "text": [
      "Current passenger count 10\n",
      "Current passenger count 13\n",
      "Current passenger count 11\n",
      "Current passenger count 10\n",
      "Current passenger count 14\n",
      "Current passenger count 10\n",
      "Current passenger count 7\n",
      "Current passenger count 5\n",
      "Current passenger count 4\n"
     ]
    }
   ],
   "source": [
    "people_movement = [in_bus[i] - out_bus[i] for i in range(len(in_bus))]\n",
    "\n",
    "total = 0\n",
    "\n",
    "for i in people_movement:\n",
    "    total += i \n",
    "    \n",
    "    print(\"Current passenger count\", total)"
   ]
  },
  {
   "cell_type": "code",
   "execution_count": 109,
   "id": "b39cc2e8",
   "metadata": {},
   "outputs": [],
   "source": [
    "passenger_count = [10, 13, 11, 10, 14, 10, 7, 5, 4]"
   ]
  },
  {
   "cell_type": "code",
   "execution_count": 110,
   "id": "e1ff2fb9",
   "metadata": {},
   "outputs": [
    {
     "name": "stdout",
     "output_type": "stream",
     "text": [
      "Max occupation: 14\n"
     ]
    }
   ],
   "source": [
    "print(\"Max occupation:\", max(passenger_count))"
   ]
  },
  {
   "cell_type": "code",
   "execution_count": 113,
   "id": "09a2dea7",
   "metadata": {},
   "outputs": [
    {
     "name": "stdout",
     "output_type": "stream",
     "text": [
      "Average: 9.333333333333334\n"
     ]
    }
   ],
   "source": [
    "print(\"Average:\", sum(passenger_count)/len(passenger_count))"
   ]
  },
  {
   "cell_type": "code",
   "execution_count": 120,
   "id": "830e57bd",
   "metadata": {},
   "outputs": [
    {
     "name": "stdout",
     "output_type": "stream",
     "text": [
      "Standard deviation: 3.391164991562634\n"
     ]
    }
   ],
   "source": [
    "import statistics\n",
    "\n",
    "print(\"Standard deviation:\", statistics.stdev(passenger_count))"
   ]
  },
  {
   "cell_type": "code",
   "execution_count": null,
   "id": "295277fb",
   "metadata": {},
   "outputs": [],
   "source": []
  }
 ],
 "metadata": {
  "kernelspec": {
   "display_name": "Python 3",
   "language": "python",
   "name": "python3"
  },
  "language_info": {
   "codemirror_mode": {
    "name": "ipython",
    "version": 3
   },
   "file_extension": ".py",
   "mimetype": "text/x-python",
   "name": "python",
   "nbconvert_exporter": "python",
   "pygments_lexer": "ipython3",
   "version": "3.9.5"
  }
 },
 "nbformat": 4,
 "nbformat_minor": 5
}
