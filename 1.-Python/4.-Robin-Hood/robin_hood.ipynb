{
 "cells": [
  {
   "cell_type": "code",
   "execution_count": 1,
   "id": "3ba4e06e",
   "metadata": {},
   "outputs": [],
   "source": [
    "points = [(4, 5), (-0, 2), (4, 7), (1, -3), (3, -2), (4, 5), (3, 2), (5, 7), (-5, 7), (2, 2), (-4, 5), (0, -2),\n",
    "          (-4, 7), (-1, 3), (-3, 2), (-4, -5), (-3, 2), (5, 7), (5, 7), (2, 2), (9, 9), (-8, -9)]"
   ]
  },
  {
   "cell_type": "code",
   "execution_count": 2,
   "id": "9ab092b2",
   "metadata": {},
   "outputs": [
    {
     "name": "stdout",
     "output_type": "stream",
     "text": [
      "The coordinates where an arrow hits another arrow are: (4, 5)\n",
      "The coordinates where an arrow hits another arrow are: (-3, 2)\n",
      "The coordinates where an arrow hits another arrow are: (5, 7)\n",
      "The coordinates where an arrow hits another arrow are: (5, 7)\n",
      "The coordinates where an arrow hits another arrow are: (2, 2)\n"
     ]
    }
   ],
   "source": [
    "common_coordinates = []\n",
    "for i in points:\n",
    "    if i not in common_coordinates:\n",
    "        common_coordinates.append(i)\n",
    "    else:\n",
    "        print(\"The coordinates where an arrow hits another arrow are:\", i)"
   ]
  },
  {
   "cell_type": "code",
   "execution_count": 4,
   "id": "81112504",
   "metadata": {},
   "outputs": [
    {
     "name": "stdout",
     "output_type": "stream",
     "text": [
      "Q1:10 Q2:6 Q3:2 Q4:2\n"
     ]
    }
   ],
   "source": [
    "Q1 = []\n",
    "Q2 = []\n",
    "Q3 = []\n",
    "Q4 = []\n",
    "lista = 0\n",
    "while lista < len(points):\n",
    "    for x,y in points[lista:lista+1]:\n",
    "        if x > 0 and y > 0:\n",
    "            Q1.append(points[lista])\n",
    "        elif x > 0 and y <0:\n",
    "            Q4.append(points[lista])\n",
    "        elif x < 0 and y >0:\n",
    "            Q2.append(points[lista])\n",
    "        elif x < 0 and y <0:\n",
    "            Q3.append(points[lista])\n",
    "    lista += 1\n",
    "\n",
    "print(\"Q1:\" + str(len(Q1)), \"Q2:\" + str(len(Q2)), \"Q3:\" + str(len(Q3)), \"Q4:\" + str(len(Q4)))"
   ]
  },
  {
   "cell_type": "code",
   "execution_count": null,
   "id": "2cefa6ba",
   "metadata": {},
   "outputs": [],
   "source": []
  }
 ],
 "metadata": {
  "kernelspec": {
   "display_name": "Python 3",
   "language": "python",
   "name": "python3"
  },
  "language_info": {
   "codemirror_mode": {
    "name": "ipython",
    "version": 3
   },
   "file_extension": ".py",
   "mimetype": "text/x-python",
   "name": "python",
   "nbconvert_exporter": "python",
   "pygments_lexer": "ipython3",
   "version": "3.9.5"
  }
 },
 "nbformat": 4,
 "nbformat_minor": 5
}
